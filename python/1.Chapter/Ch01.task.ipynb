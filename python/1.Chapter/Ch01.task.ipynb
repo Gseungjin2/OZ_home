{
 "cells": [
  {
   "cell_type": "markdown",
   "metadata": {},
   "source": [
    "<span style=\"font-size:100%\">\n",
    "\n",
    "수업은 모두 열심히 들으셨나요?\n",
    "\n",
    "간혹 강의에서 언급되지 않은 내용이 문제로 나올 수 있습니다.<br>\n",
    "그럴땐 강의 내용 외 문제는 구글링을 통해 해결해주세요<br></span>\n",
    "<span style=\"font-size:80%\">\n",
    "(구글링 또한 개발자가 갖쳐야할 역량 중에 하나랍니다 😊)\n",
    "</span>\n",
    "\n",
    "---"
   ]
  },
  {
   "cell_type": "markdown",
   "metadata": {},
   "source": [
    "<span style=\"font-size:80%\">[문제1]<br><br></span>\n",
    "```인터프리트 방식에 대해 설명하고 2개 이상의 장점을 설명해주세요```"
   ]
  },
  {
   "cell_type": "markdown",
   "metadata": {},
   "source": [
    "<span style=\"color:red\">답변</span>"
   ]
  },
  {
   "cell_type": "markdown",
   "metadata": {},
   "source": [
    "소스코드를 한 줄씩 읽어서 바로 실행하는 방식 장점은 이식성이 좋고 간편하게 테스트하고 실행 가능하다"
   ]
  },
  {
   "cell_type": "markdown",
   "metadata": {},
   "source": [
    "---"
   ]
  },
  {
   "cell_type": "markdown",
   "metadata": {},
   "source": [
    "<span style=\"font-size:80%\">[문제2]<br><br></span>\n",
    "```동적 타입 방식의 장점과 단점을 간략히 설명해주세요```"
   ]
  },
  {
   "cell_type": "markdown",
   "metadata": {},
   "source": [
    "<span style=\"color:red\">답변</span>"
   ]
  },
  {
   "cell_type": "markdown",
   "metadata": {},
   "source": [
    "동적 타입은 코드를 간편하고 유연하게 짤 수 있지만 에러를 찾기 힘들다"
   ]
  },
  {
   "cell_type": "markdown",
   "metadata": {},
   "source": [
    "---"
   ]
  },
  {
   "cell_type": "markdown",
   "metadata": {},
   "source": [
    "<span style=\"font-size:80%\">[문제3]<br><br></span>\n",
    "```Python으로 정적타입 방식의 코드를 작성할 수 있는 방법을 구글링을 통해 검색 후 설명해주세요```"
   ]
  },
  {
   "cell_type": "markdown",
   "metadata": {},
   "source": [
    "<span style=\"color:red\">답변</span>"
   ]
  },
  {
   "cell_type": "markdown",
   "metadata": {},
   "source": [
    "파이썬에서는 변수가 동적으로 결정됨 그래서 파이썬은 실행 되기전까지 변수인지 문자열인지 알수 없음 그걸 위해 정적타입 체크를 위한 기능을 제공\n",
    "Type Hints, mypy 제공한다"
   ]
  },
  {
   "cell_type": "markdown",
   "metadata": {},
   "source": [
    "---"
   ]
  },
  {
   "cell_type": "markdown",
   "metadata": {},
   "source": [
    "<span style=\"font-size:80%\">[문제4]<br><br></span>\n",
    "```프로세스와 스레드의 차이점을 설명해주세요```"
   ]
  },
  {
   "cell_type": "markdown",
   "metadata": {},
   "source": [
    "<span style=\"color:red\">답변</span>"
   ]
  },
  {
   "cell_type": "markdown",
   "metadata": {},
   "source": [
    "프로세스와 스레드에 대한 정의 \n",
    "프로세스: 운영체제로부터 자원을 할당받은 작업의 단위.\n",
    "스레드: 프로세스가 할당받은 자원을 이용하는 실행 흐름의 단위.\n",
    "\n",
    "메모리 \n",
    "프로세스 : 자체 메모리 공간을 갖습니다.\n",
    "Thread : 동일한 프로세스의 다른 스레드와 메모리를 공유합니다.\n",
    "\n",
    "자원 할당 \n",
    "프로세스 : 리소스 집약적입니다.\n",
    "주제 : 더 효율적이고 리소스를 공유할 수 있습니다.\n",
    "\n",
    "의사소통 \n",
    "프로세스 : 더 힘들고 느립니다(IPC 방법).\n",
    "스레드 : 더 쉽게, 더 빠르게 (공유 메모리)."
   ]
  },
  {
   "cell_type": "markdown",
   "metadata": {},
   "source": [
    "---"
   ]
  },
  {
   "cell_type": "markdown",
   "metadata": {},
   "source": [
    "<span style=\"font-size:80%\">[문제5]<br><br></span>\n",
    "```Python 2버전대와 3버전대의 차이를 성명해주세요```"
   ]
  },
  {
   "cell_type": "markdown",
   "metadata": {},
   "source": [
    "<span style=\"color:red\">답변</span>"
   ]
  },
  {
   "cell_type": "markdown",
   "metadata": {},
   "source": [
    "문법 차이, 문자열 처리, 정수 나눗셈에서 차이가 생김\n",
    "자제한 내요은 다음에 알아보자"
   ]
  },
  {
   "cell_type": "markdown",
   "metadata": {},
   "source": [
    "---"
   ]
  },
  {
   "cell_type": "markdown",
   "metadata": {},
   "source": [
    "<span style=\"font-size:80%\">[문제6]<br><br></span>\n",
    "```P서 메모리 관리는 어떻게 이루어지ython에는지 설명해주세요```"
   ]
  },
  {
   "cell_type": "markdown",
   "metadata": {},
   "source": [
    "<span style=\"color:red\">답변</span>"
   ]
  },
  {
   "cell_type": "markdown",
   "metadata": {},
   "source": [
    "개인 힙 \n",
    "Python은 모든 객체와 데이터 구조에 개인 힙 공간을 사용합니다.\n",
    "이 힙은 Python 메모리 관리자에 의해 내부적으로 관리됩니다.\n",
    "\n",
    "메모리 관리자\n",
    "메모리 관리자는 객체를 위한 공간을 할당하고, 개인 힙을 관리하며, 효율적인 메모리 사용을 보장합니다.\n",
    "\n",
    "쓰레기 수거 \n",
    "Python은 가비지 수집기를 사용하여 더 이상 사용하지 않는 객체를 제거하여 메모리를 확보합니다."
   ]
  }
 ],
 "metadata": {
  "language_info": {
   "name": "python"
  }
 },
 "nbformat": 4,
 "nbformat_minor": 2
}
